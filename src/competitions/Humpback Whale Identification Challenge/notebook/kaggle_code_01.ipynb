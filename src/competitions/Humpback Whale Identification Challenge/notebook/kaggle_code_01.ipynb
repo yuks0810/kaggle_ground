{
 "cells": [
  {
   "cell_type": "markdown",
   "source": [
    "[Whale Recognition Model with score 0.78563](https://www.kaggle.com/martinpiotte/whale-recognition-model-with-score-0-78563)\n",
    "\n",
    "まずはkaggleにポストされているこのノートを参考に感覚を掴む。その後、このノートの手法に手を加えて精度を上げる。\n"
   ],
   "metadata": {}
  },
  {
   "cell_type": "code",
   "execution_count": null,
   "source": [],
   "outputs": [],
   "metadata": {}
  }
 ],
 "metadata": {
  "orig_nbformat": 4,
  "language_info": {
   "name": "python"
  }
 },
 "nbformat": 4,
 "nbformat_minor": 2
}