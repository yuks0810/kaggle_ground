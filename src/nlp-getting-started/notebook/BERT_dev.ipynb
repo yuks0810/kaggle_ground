{
 "cells": [
  {
   "cell_type": "markdown",
   "source": [
    "\n",
    "[BERT tutorial](https://neptune.ai/blog/how-to-code-bert-using-pytorch-tutorial)\n",
    "\n",
    "1. Preprocessing\n",
    "2. Building model\n",
    "3. Loss and Optimization\n",
    "4. Training\n"
   ],
   "metadata": {}
  },
  {
   "cell_type": "code",
   "execution_count": 8,
   "source": [
    "import re"
   ],
   "outputs": [],
   "metadata": {}
  },
  {
   "cell_type": "code",
   "execution_count": 9,
   "source": [
    "text = (\n",
    "       'Hello, how are you? I am Romeo.\\n'\n",
    "       'Hello, Romeo My name is Juliet. Nice to meet you.\\n'\n",
    "       'Nice meet you too. How are you today?\\n'\n",
    "       'Great. My baseball team won the competition.\\n'\n",
    "       'Oh Congratulations, Juliet\\n'\n",
    "       'Thanks you Romeo'\n",
    "   )\n"
   ],
   "outputs": [],
   "metadata": {}
  },
  {
   "cell_type": "code",
   "execution_count": 10,
   "source": [
    "sentences = re.sub(\"[.,!?\\\\-]\", '', text.lower()).split('\\n')  # filter '.', ',', '?', '!'\n",
    "word_list = list(set(\" \".join(sentences).split()))"
   ],
   "outputs": [],
   "metadata": {}
  },
  {
   "cell_type": "code",
   "execution_count": 14,
   "source": [
    "word_dict = {'[PAD]': 0, '[CLS]': 1, '[SEP]': 2, '[MASK]': 3}\n",
    "for i, w in enumerate(word_list):\n",
    "   word_dict[w] = i + 4\n",
    "   number_dict = {i: w for i, w in enumerate(word_dict)}\n",
    "   vocab_size = len(word_dict)"
   ],
   "outputs": [],
   "metadata": {}
  },
  {
   "cell_type": "code",
   "execution_count": 15,
   "source": [
    "word_dict"
   ],
   "outputs": [
    {
     "output_type": "execute_result",
     "data": {
      "text/plain": [
       "{'[PAD]': 0,\n",
       " '[CLS]': 1,\n",
       " '[SEP]': 2,\n",
       " '[MASK]': 3,\n",
       " 'hello': 4,\n",
       " 'oh': 5,\n",
       " 'meet': 6,\n",
       " 'competition': 7,\n",
       " 'team': 8,\n",
       " 'today': 9,\n",
       " 'won': 10,\n",
       " 'my': 11,\n",
       " 'name': 12,\n",
       " 'congratulations': 13,\n",
       " 'great': 14,\n",
       " 'is': 15,\n",
       " 'thanks': 16,\n",
       " 'are': 17,\n",
       " 'am': 18,\n",
       " 'i': 19,\n",
       " 'nice': 20,\n",
       " 'too': 21,\n",
       " 'you': 22,\n",
       " 'juliet': 23,\n",
       " 'to': 24,\n",
       " 'baseball': 25,\n",
       " 'the': 26,\n",
       " 'how': 27,\n",
       " 'romeo': 28}"
      ]
     },
     "metadata": {},
     "execution_count": 15
    }
   ],
   "metadata": {}
  },
  {
   "cell_type": "code",
   "execution_count": null,
   "source": [],
   "outputs": [],
   "metadata": {}
  }
 ],
 "metadata": {
  "interpreter": {
   "hash": "98b0a9b7b4eaaa670588a142fd0a9b87eaafe866f1db4228be72b4211d12040f"
  },
  "kernelspec": {
   "name": "python3",
   "display_name": "Python 3.7.6 64-bit ('base': conda)"
  },
  "language_info": {
   "name": "python",
   "version": "3.7.6",
   "mimetype": "text/x-python",
   "codemirror_mode": {
    "name": "ipython",
    "version": 3
   },
   "pygments_lexer": "ipython3",
   "nbconvert_exporter": "python",
   "file_extension": ".py"
  },
  "orig_nbformat": 4
 },
 "nbformat": 4,
 "nbformat_minor": 2
}